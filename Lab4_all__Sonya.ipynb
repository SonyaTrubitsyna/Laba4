{
  "cells": [
    {
      "cell_type": "markdown",
      "metadata": {
        "id": "view-in-github",
        "colab_type": "text"
      },
      "source": [
        "<a href=\"https://colab.research.google.com/github/SonyaTrubitsyna/Laba4/blob/main/Lab4_all__Sonya.ipynb\" target=\"_parent\"><img src=\"https://colab.research.google.com/assets/colab-badge.svg\" alt=\"Open In Colab\"/></a>"
      ]
    },
    {
      "cell_type": "code",
      "execution_count": 40,
      "id": "64b45ca9",
      "metadata": {
        "id": "64b45ca9"
      },
      "outputs": [],
      "source": [
        "import numpy as np\n",
        "import pandas as pd\n",
        "import matplotlib.pyplot as plt"
      ]
    },
    {
      "cell_type": "code",
      "execution_count": 41,
      "id": "5a4fca6c",
      "metadata": {
        "id": "5a4fca6c"
      },
      "outputs": [],
      "source": [
        "x_11 = np.random.randint(1, 11, 50)\n",
        "x_12 = np.random.randint(1, 11, 50)\n",
        "x_13 = np.random.randint(1, 11, 50)\n",
        "\n",
        "x_21 = np.random.randint(1, 11, 50)\n",
        "x_22 = np.random.randint(1, 11, 50)\n",
        "x_23 = np.random.randint(1, 11, 50)\n",
        "x1 = np.concatenate ((x_11, x_12, x_13))\n",
        "x2 = np.concatenate ((x_21, x_22, x_23))\n",
        "x = {'x1': x1, 'x2': x2}\n"
      ]
    },
    {
      "cell_type": "code",
      "execution_count": 42,
      "id": "f851ac7c",
      "metadata": {
        "id": "f851ac7c"
      },
      "outputs": [],
      "source": [
        "X = pd.DataFrame(data = x, columns=['x1', 'x2'])\n",
        "X.to_excel('data_all.xlsx')"
      ]
    },
    {
      "cell_type": "code",
      "execution_count": 43,
      "id": "db399c7b",
      "metadata": {
        "id": "db399c7b",
        "outputId": "4b14f64c-8ccb-47dd-a35f-91550d888b67",
        "colab": {
          "base_uri": "https://localhost:8080/",
          "height": 206
        }
      },
      "outputs": [
        {
          "output_type": "execute_result",
          "data": {
            "text/plain": [
              "   x1  x2\n",
              "0   2   5\n",
              "1   1   4\n",
              "2   9   8\n",
              "3   3   5\n",
              "4   5   7"
            ],
            "text/html": [
              "\n",
              "  <div id=\"df-88796d2e-babb-4fed-8502-170a09d56811\">\n",
              "    <div class=\"colab-df-container\">\n",
              "      <div>\n",
              "<style scoped>\n",
              "    .dataframe tbody tr th:only-of-type {\n",
              "        vertical-align: middle;\n",
              "    }\n",
              "\n",
              "    .dataframe tbody tr th {\n",
              "        vertical-align: top;\n",
              "    }\n",
              "\n",
              "    .dataframe thead th {\n",
              "        text-align: right;\n",
              "    }\n",
              "</style>\n",
              "<table border=\"1\" class=\"dataframe\">\n",
              "  <thead>\n",
              "    <tr style=\"text-align: right;\">\n",
              "      <th></th>\n",
              "      <th>x1</th>\n",
              "      <th>x2</th>\n",
              "    </tr>\n",
              "  </thead>\n",
              "  <tbody>\n",
              "    <tr>\n",
              "      <th>0</th>\n",
              "      <td>2</td>\n",
              "      <td>5</td>\n",
              "    </tr>\n",
              "    <tr>\n",
              "      <th>1</th>\n",
              "      <td>1</td>\n",
              "      <td>4</td>\n",
              "    </tr>\n",
              "    <tr>\n",
              "      <th>2</th>\n",
              "      <td>9</td>\n",
              "      <td>8</td>\n",
              "    </tr>\n",
              "    <tr>\n",
              "      <th>3</th>\n",
              "      <td>3</td>\n",
              "      <td>5</td>\n",
              "    </tr>\n",
              "    <tr>\n",
              "      <th>4</th>\n",
              "      <td>5</td>\n",
              "      <td>7</td>\n",
              "    </tr>\n",
              "  </tbody>\n",
              "</table>\n",
              "</div>\n",
              "      <button class=\"colab-df-convert\" onclick=\"convertToInteractive('df-88796d2e-babb-4fed-8502-170a09d56811')\"\n",
              "              title=\"Convert this dataframe to an interactive table.\"\n",
              "              style=\"display:none;\">\n",
              "        \n",
              "  <svg xmlns=\"http://www.w3.org/2000/svg\" height=\"24px\"viewBox=\"0 0 24 24\"\n",
              "       width=\"24px\">\n",
              "    <path d=\"M0 0h24v24H0V0z\" fill=\"none\"/>\n",
              "    <path d=\"M18.56 5.44l.94 2.06.94-2.06 2.06-.94-2.06-.94-.94-2.06-.94 2.06-2.06.94zm-11 1L8.5 8.5l.94-2.06 2.06-.94-2.06-.94L8.5 2.5l-.94 2.06-2.06.94zm10 10l.94 2.06.94-2.06 2.06-.94-2.06-.94-.94-2.06-.94 2.06-2.06.94z\"/><path d=\"M17.41 7.96l-1.37-1.37c-.4-.4-.92-.59-1.43-.59-.52 0-1.04.2-1.43.59L10.3 9.45l-7.72 7.72c-.78.78-.78 2.05 0 2.83L4 21.41c.39.39.9.59 1.41.59.51 0 1.02-.2 1.41-.59l7.78-7.78 2.81-2.81c.8-.78.8-2.07 0-2.86zM5.41 20L4 18.59l7.72-7.72 1.47 1.35L5.41 20z\"/>\n",
              "  </svg>\n",
              "      </button>\n",
              "      \n",
              "  <style>\n",
              "    .colab-df-container {\n",
              "      display:flex;\n",
              "      flex-wrap:wrap;\n",
              "      gap: 12px;\n",
              "    }\n",
              "\n",
              "    .colab-df-convert {\n",
              "      background-color: #E8F0FE;\n",
              "      border: none;\n",
              "      border-radius: 50%;\n",
              "      cursor: pointer;\n",
              "      display: none;\n",
              "      fill: #1967D2;\n",
              "      height: 32px;\n",
              "      padding: 0 0 0 0;\n",
              "      width: 32px;\n",
              "    }\n",
              "\n",
              "    .colab-df-convert:hover {\n",
              "      background-color: #E2EBFA;\n",
              "      box-shadow: 0px 1px 2px rgba(60, 64, 67, 0.3), 0px 1px 3px 1px rgba(60, 64, 67, 0.15);\n",
              "      fill: #174EA6;\n",
              "    }\n",
              "\n",
              "    [theme=dark] .colab-df-convert {\n",
              "      background-color: #3B4455;\n",
              "      fill: #D2E3FC;\n",
              "    }\n",
              "\n",
              "    [theme=dark] .colab-df-convert:hover {\n",
              "      background-color: #434B5C;\n",
              "      box-shadow: 0px 1px 3px 1px rgba(0, 0, 0, 0.15);\n",
              "      filter: drop-shadow(0px 1px 2px rgba(0, 0, 0, 0.3));\n",
              "      fill: #FFFFFF;\n",
              "    }\n",
              "  </style>\n",
              "\n",
              "      <script>\n",
              "        const buttonEl =\n",
              "          document.querySelector('#df-88796d2e-babb-4fed-8502-170a09d56811 button.colab-df-convert');\n",
              "        buttonEl.style.display =\n",
              "          google.colab.kernel.accessAllowed ? 'block' : 'none';\n",
              "\n",
              "        async function convertToInteractive(key) {\n",
              "          const element = document.querySelector('#df-88796d2e-babb-4fed-8502-170a09d56811');\n",
              "          const dataTable =\n",
              "            await google.colab.kernel.invokeFunction('convertToInteractive',\n",
              "                                                     [key], {});\n",
              "          if (!dataTable) return;\n",
              "\n",
              "          const docLinkHtml = 'Like what you see? Visit the ' +\n",
              "            '<a target=\"_blank\" href=https://colab.research.google.com/notebooks/data_table.ipynb>data table notebook</a>'\n",
              "            + ' to learn more about interactive tables.';\n",
              "          element.innerHTML = '';\n",
              "          dataTable['output_type'] = 'display_data';\n",
              "          await google.colab.output.renderOutput(dataTable, element);\n",
              "          const docLink = document.createElement('div');\n",
              "          docLink.innerHTML = docLinkHtml;\n",
              "          element.appendChild(docLink);\n",
              "        }\n",
              "      </script>\n",
              "    </div>\n",
              "  </div>\n",
              "  "
            ]
          },
          "metadata": {},
          "execution_count": 43
        }
      ],
      "source": [
        "X.head()"
      ]
    },
    {
      "cell_type": "code",
      "execution_count": 44,
      "id": "89455a3d",
      "metadata": {
        "id": "89455a3d",
        "outputId": "66232605-d2b1-47d6-99ed-65a3c6bd2678",
        "colab": {
          "base_uri": "https://localhost:8080/",
          "height": 296
        }
      },
      "outputs": [
        {
          "output_type": "execute_result",
          "data": {
            "text/plain": [
              "Text(0, 0.5, 'увлекательность (баллы)')"
            ]
          },
          "metadata": {},
          "execution_count": 44
        },
        {
          "output_type": "display_data",
          "data": {
            "text/plain": [
              "<Figure size 432x288 with 1 Axes>"
            ],
            "image/png": "[encoded data removed]"
          },
          "metadata": {
            "needs_background": "light"
          }
        }
      ],
      "source": [
        "plt.scatter(X['x1'], X['x2'], color='blue')\n",
        "plt.xlabel('полезность (баллы)')\n",
        "plt.ylabel('увлекательность (баллы)')"
      ]
    },
    {
      "cell_type": "code",
      "execution_count": 45,
      "id": "7ca5d9ac",
      "metadata": {
        "id": "7ca5d9ac"
      },
      "outputs": [],
      "source": [
        "from sklearn.cluster import KMeans"
      ]
    },
    {
      "cell_type": "code",
      "execution_count": 46,
      "id": "c4d6fee2",
      "metadata": {
        "id": "c4d6fee2",
        "outputId": "cef75fe5-0ac7-4db8-d6f8-fc05b797a9a1",
        "colab": {
          "base_uri": "https://localhost:8080/",
          "height": 296
        }
      },
      "outputs": [
        {
          "output_type": "execute_result",
          "data": {
            "text/plain": [
              "<matplotlib.legend.Legend at 0x7f40ff428f70>"
            ]
          },
          "metadata": {},
          "execution_count": 46
        },
        {
          "output_type": "display_data",
          "data": {
            "text/plain": [
              "<Figure size 432x288 with 1 Axes>"
            ],
            "image/png": "[encoded data removed]"
          },
          "metadata": {
            "needs_background": "light"
          }
        }
      ],
      "source": [
        "k_rng = range(1, 15)\n",
        "sse = []\n",
        "for i in k_rng:\n",
        "    km = KMeans(n_clusters=i)\n",
        "    km.fit_transform(X)\n",
        "    sse.append(km.inertia_)\n",
        "    \n",
        "fig, ax = plt.subplots()\n",
        "ax.plot(k_rng, sse, color='blue', label='график СКО')\n",
        "ax.set_xticks(np.arange(1,15))\n",
        "ax.set_xlabel('К')\n",
        "ax.set_ylabel('СКО')\n",
        "ax.scatter(4, sse[3], color='black', label='K с лучшей СКО') #надо вместо 3 и sse[i] (вместо i) поставить \n",
        "# два других значения,в соответствии с данными\n",
        "ax.legend()"
      ]
    },
    {
      "cell_type": "code",
      "execution_count": 47,
      "id": "f21f3660",
      "metadata": {
        "id": "f21f3660",
        "outputId": "2543c84b-b733-4a0d-85e6-67ec02fd94ec",
        "colab": {
          "base_uri": "https://localhost:8080/",
          "height": 424
        }
      },
      "outputs": [
        {
          "output_type": "execute_result",
          "data": {
            "text/plain": [
              "     x1  x2\n",
              "0     2   5\n",
              "1     1   4\n",
              "2     9   8\n",
              "3     3   5\n",
              "4     5   7\n",
              "..   ..  ..\n",
              "145   1   5\n",
              "146   4   5\n",
              "147   1   3\n",
              "148   3   9\n",
              "149   5  10\n",
              "\n",
              "[150 rows x 2 columns]"
            ],
            "text/html": [
              "\n",
              "  <div id=\"df-099cee1d-04a1-4d9e-9f85-5b46a34de212\">\n",
              "    <div class=\"colab-df-container\">\n",
              "      <div>\n",
              "<style scoped>\n",
              "    .dataframe tbody tr th:only-of-type {\n",
              "        vertical-align: middle;\n",
              "    }\n",
              "\n",
              "    .dataframe tbody tr th {\n",
              "        vertical-align: top;\n",
              "    }\n",
              "\n",
              "    .dataframe thead th {\n",
              "        text-align: right;\n",
              "    }\n",
              "</style>\n",
              "<table border=\"1\" class=\"dataframe\">\n",
              "  <thead>\n",
              "    <tr style=\"text-align: right;\">\n",
              "      <th></th>\n",
              "      <th>x1</th>\n",
              "      <th>x2</th>\n",
              "    </tr>\n",
              "  </thead>\n",
              "  <tbody>\n",
              "    <tr>\n",
              "      <th>0</th>\n",
              "      <td>2</td>\n",
              "      <td>5</td>\n",
              "    </tr>\n",
              "    <tr>\n",
              "      <th>1</th>\n",
              "      <td>1</td>\n",
              "      <td>4</td>\n",
              "    </tr>\n",
              "    <tr>\n",
              "      <th>2</th>\n",
              "      <td>9</td>\n",
              "      <td>8</td>\n",
              "    </tr>\n",
              "    <tr>\n",
              "      <th>3</th>\n",
              "      <td>3</td>\n",
              "      <td>5</td>\n",
              "    </tr>\n",
              "    <tr>\n",
              "      <th>4</th>\n",
              "      <td>5</td>\n",
              "      <td>7</td>\n",
              "    </tr>\n",
              "    <tr>\n",
              "      <th>...</th>\n",
              "      <td>...</td>\n",
              "      <td>...</td>\n",
              "    </tr>\n",
              "    <tr>\n",
              "      <th>145</th>\n",
              "      <td>1</td>\n",
              "      <td>5</td>\n",
              "    </tr>\n",
              "    <tr>\n",
              "      <th>146</th>\n",
              "      <td>4</td>\n",
              "      <td>5</td>\n",
              "    </tr>\n",
              "    <tr>\n",
              "      <th>147</th>\n",
              "      <td>1</td>\n",
              "      <td>3</td>\n",
              "    </tr>\n",
              "    <tr>\n",
              "      <th>148</th>\n",
              "      <td>3</td>\n",
              "      <td>9</td>\n",
              "    </tr>\n",
              "    <tr>\n",
              "      <th>149</th>\n",
              "      <td>5</td>\n",
              "      <td>10</td>\n",
              "    </tr>\n",
              "  </tbody>\n",
              "</table>\n",
              "<p>150 rows × 2 columns</p>\n",
              "</div>\n",
              "      <button class=\"colab-df-convert\" onclick=\"convertToInteractive('df-099cee1d-04a1-4d9e-9f85-5b46a34de212')\"\n",
              "              title=\"Convert this dataframe to an interactive table.\"\n",
              "              style=\"display:none;\">\n",
              "        \n",
              "  <svg xmlns=\"http://www.w3.org/2000/svg\" height=\"24px\"viewBox=\"0 0 24 24\"\n",
              "       width=\"24px\">\n",
              "    <path d=\"M0 0h24v24H0V0z\" fill=\"none\"/>\n",
              "    <path d=\"M18.56 5.44l.94 2.06.94-2.06 2.06-.94-2.06-.94-.94-2.06-.94 2.06-2.06.94zm-11 1L8.5 8.5l.94-2.06 2.06-.94-2.06-.94L8.5 2.5l-.94 2.06-2.06.94zm10 10l.94 2.06.94-2.06 2.06-.94-2.06-.94-.94-2.06-.94 2.06-2.06.94z\"/><path d=\"M17.41 7.96l-1.37-1.37c-.4-.4-.92-.59-1.43-.59-.52 0-1.04.2-1.43.59L10.3 9.45l-7.72 7.72c-.78.78-.78 2.05 0 2.83L4 21.41c.39.39.9.59 1.41.59.51 0 1.02-.2 1.41-.59l7.78-7.78 2.81-2.81c.8-.78.8-2.07 0-2.86zM5.41 20L4 18.59l7.72-7.72 1.47 1.35L5.41 20z\"/>\n",
              "  </svg>\n",
              "      </button>\n",
              "      \n",
              "  <style>\n",
              "    .colab-df-container {\n",
              "      display:flex;\n",
              "      flex-wrap:wrap;\n",
              "      gap: 12px;\n",
              "    }\n",
              "\n",
              "    .colab-df-convert {\n",
              "      background-color: #E8F0FE;\n",
              "      border: none;\n",
              "      border-radius: 50%;\n",
              "      cursor: pointer;\n",
              "      display: none;\n",
              "      fill: #1967D2;\n",
              "      height: 32px;\n",
              "      padding: 0 0 0 0;\n",
              "      width: 32px;\n",
              "    }\n",
              "\n",
              "    .colab-df-convert:hover {\n",
              "      background-color: #E2EBFA;\n",
              "      box-shadow: 0px 1px 2px rgba(60, 64, 67, 0.3), 0px 1px 3px 1px rgba(60, 64, 67, 0.15);\n",
              "      fill: #174EA6;\n",
              "    }\n",
              "\n",
              "    [theme=dark] .colab-df-convert {\n",
              "      background-color: #3B4455;\n",
              "      fill: #D2E3FC;\n",
              "    }\n",
              "\n",
              "    [theme=dark] .colab-df-convert:hover {\n",
              "      background-color: #434B5C;\n",
              "      box-shadow: 0px 1px 3px 1px rgba(0, 0, 0, 0.15);\n",
              "      filter: drop-shadow(0px 1px 2px rgba(0, 0, 0, 0.3));\n",
              "      fill: #FFFFFF;\n",
              "    }\n",
              "  </style>\n",
              "\n",
              "      <script>\n",
              "        const buttonEl =\n",
              "          document.querySelector('#df-099cee1d-04a1-4d9e-9f85-5b46a34de212 button.colab-df-convert');\n",
              "        buttonEl.style.display =\n",
              "          google.colab.kernel.accessAllowed ? 'block' : 'none';\n",
              "\n",
              "        async function convertToInteractive(key) {\n",
              "          const element = document.querySelector('#df-099cee1d-04a1-4d9e-9f85-5b46a34de212');\n",
              "          const dataTable =\n",
              "            await google.colab.kernel.invokeFunction('convertToInteractive',\n",
              "                                                     [key], {});\n",
              "          if (!dataTable) return;\n",
              "\n",
              "          const docLinkHtml = 'Like what you see? Visit the ' +\n",
              "            '<a target=\"_blank\" href=https://colab.research.google.com/notebooks/data_table.ipynb>data table notebook</a>'\n",
              "            + ' to learn more about interactive tables.';\n",
              "          element.innerHTML = '';\n",
              "          dataTable['output_type'] = 'display_data';\n",
              "          await google.colab.output.renderOutput(dataTable, element);\n",
              "          const docLink = document.createElement('div');\n",
              "          docLink.innerHTML = docLinkHtml;\n",
              "          element.appendChild(docLink);\n",
              "        }\n",
              "      </script>\n",
              "    </div>\n",
              "  </div>\n",
              "  "
            ]
          },
          "metadata": {},
          "execution_count": 47
        }
      ],
      "source": [
        "X"
      ]
    },
    {
      "cell_type": "code",
      "execution_count": 50,
      "id": "4539bbaf",
      "metadata": {
        "id": "4539bbaf"
      },
      "outputs": [],
      "source": [
        "km1 = KMeans(n_clusters=4)\n",
        "y_predicted = km1.fit_predict(X)\n",
        "X['cluster'] = y_predicted \n",
        "X.head()\n",
        "X.to_excel('data_all2.xlsx')\n",
        "# y_predicted"
      ]
    },
    {
      "cell_type": "code",
      "execution_count": 51,
      "id": "4f97908d",
      "metadata": {
        "id": "4f97908d",
        "outputId": "0ad2f4b4-9838-4fce-fd4e-8dff167ad3c0",
        "colab": {
          "base_uri": "https://localhost:8080/",
          "height": 279
        }
      },
      "outputs": [
        {
          "output_type": "display_data",
          "data": {
            "text/plain": [
              "<Figure size 432x288 with 1 Axes>"
            ],
            "image/png": "[encoded data removed]"
          },
          "metadata": {
            "needs_background": "light"
          }
        }
      ],
      "source": [
        "df1=X[X.cluster==0]\n",
        "df2=X[X.cluster==1]\n",
        "df3=X[X.cluster==2]\n",
        "df4=X[X.cluster==3]\n",
        "fig, ax = plt.subplots()\n",
        "ax.scatter(df1['x1'], df1['x2'], alpha=0.5, color='blue', label='кластер1')\n",
        "ax.scatter(df2['x1'], df2['x2'], alpha=0.5, color='red', label='кластер2')\n",
        "ax.scatter(df3['x1'], df3['x2'], alpha=0.5, color='green', label='кластер3')\n",
        "ax.scatter(df4['x1'], df4['x2'], alpha=0.5, color='yellow', label='кластер4')\n",
        "ax.scatter(km1.cluster_centers_[:, 0], km1.cluster_centers_[:, 1], color='black', label='центроиды')\n",
        "ax.set_xlabel('полезность (баллы)')\n",
        "ax.set_ylabel('увлекательность (баллы)')\n",
        "ax.legend()\n",
        "plt.show()"
      ]
    },
    {
      "cell_type": "code",
      "execution_count": 52,
      "id": "7ed78133",
      "metadata": {
        "id": "7ed78133",
        "outputId": "88cf7795-ccc0-4750-9a5a-5a22ff178f31",
        "colab": {
          "base_uri": "https://localhost:8080/"
        }
      },
      "outputs": [
        {
          "output_type": "execute_result",
          "data": {
            "text/plain": [
              "array([0, 0, 2, 0, 1, 2, 1, 0, 2, 2, 2, 3, 1, 3, 0, 0, 0, 1, 0, 0, 0, 1,\n",
              "       2, 2, 2, 3, 0, 3, 3, 2, 0, 3, 0, 2, 3, 3, 2, 1, 0, 1, 1, 0, 1, 1,\n",
              "       3, 3, 1, 1, 1, 1, 0, 0, 2, 0, 3, 1, 3, 2, 2, 3, 2, 2, 2, 2, 3, 2,\n",
              "       2, 1, 3, 0, 0, 3, 2, 3, 3, 1, 1, 0, 2, 2, 1, 3, 3, 3, 1, 1, 0, 3,\n",
              "       3, 2, 0, 1, 1, 1, 3, 3, 2, 3, 3, 0, 0, 2, 3, 2, 1, 0, 0, 0, 0, 2,\n",
              "       1, 3, 0, 1, 0, 3, 1, 2, 1, 3, 1, 3, 0, 2, 2, 2, 3, 0, 1, 1, 3, 3,\n",
              "       1, 3, 1, 0, 1, 3, 3, 2, 0, 1, 2, 2, 0, 0, 0, 0, 1, 1], dtype=int32)"
            ]
          },
          "metadata": {},
          "execution_count": 52
        }
      ],
      "source": [
        "y_predicted"
      ]
    },
    {
      "cell_type": "code",
      "execution_count": 53,
      "id": "497c269a",
      "metadata": {
        "id": "497c269a"
      },
      "outputs": [],
      "source": [
        "X['cluster'] = X['cluster'].map({0: 'кластер1', 1: 'кластер2', 2: 'кластер3', 3: 'кластер4'})\n"
      ]
    },
    {
      "cell_type": "code",
      "execution_count": null,
      "id": "90868c5c",
      "metadata": {
        "id": "90868c5c"
      },
      "outputs": [],
      "source": []
    }
  ],
  "metadata": {
    "kernelspec": {
      "display_name": "Python 3 (ipykernel)",
      "language": "python",
      "name": "python3"
    },
    "language_info": {
      "codemirror_mode": {
        "name": "ipython",
        "version": 3
      },
      "file_extension": ".py",
      "mimetype": "text/x-python",
      "name": "python",
      "nbconvert_exporter": "python",
      "pygments_lexer": "ipython3",
      "version": "3.9.13"
    },
    "colab": {
      "provenance": [],
      "include_colab_link": true
    }
  },
  "nbformat": 4,
  "nbformat_minor": 5
}